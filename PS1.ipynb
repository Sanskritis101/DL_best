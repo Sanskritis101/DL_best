{
  "nbformat": 4,
  "nbformat_minor": 0,
  "metadata": {
    "colab": {
      "provenance": [],
      "authorship_tag": "ABX9TyM4aYDMNjZ/UpBxyNgFWGv4"
    },
    "kernelspec": {
      "name": "python3",
      "display_name": "Python 3"
    },
    "language_info": {
      "name": "python"
    }
  },
  "cells": [
    {
      "cell_type": "markdown",
      "source": [
        "# TENSORFLOW\n"
      ],
      "metadata": {
        "id": "ObjZjP0LW-_i"
      }
    },
    {
      "cell_type": "code",
      "execution_count": 1,
      "metadata": {
        "id": "jxyDPDywNlZh"
      },
      "outputs": [],
      "source": [
        "#Tensorflow\n",
        "import tensorflow as tf\n",
        "import numpy as np"
      ]
    },
    {
      "cell_type": "code",
      "source": [
        "a = tf.constant(15)\n",
        "b = tf.constant(20)\n",
        "print (a * b)"
      ],
      "metadata": {
        "colab": {
          "base_uri": "https://localhost:8080/",
          "height": 0
        },
        "id": "TeBls5mCNrV7",
        "outputId": "0ef6e194-67aa-4919-f285-48764dff8f06"
      },
      "execution_count": 2,
      "outputs": [
        {
          "output_type": "stream",
          "name": "stdout",
          "text": [
            "tf.Tensor(300, shape=(), dtype=int32)\n"
          ]
        }
      ]
    },
    {
      "cell_type": "code",
      "source": [
        "x = np.random.rand(100).astype(np.float32)\n",
        "print(x)"
      ],
      "metadata": {
        "colab": {
          "base_uri": "https://localhost:8080/",
          "height": 0
        },
        "id": "3BEnprwONyds",
        "outputId": "5fab5fdf-9ebb-46ba-a416-1be10cd85fe0"
      },
      "execution_count": 3,
      "outputs": [
        {
          "output_type": "stream",
          "name": "stdout",
          "text": [
            "[0.12799385 0.58096606 0.29910296 0.00694142 0.25975925 0.3797486\n",
            " 0.88961273 0.3310374  0.27775624 0.08496003 0.30289632 0.2410771\n",
            " 0.67625755 0.29335392 0.4855641  0.27671364 0.07724655 0.8408807\n",
            " 0.54611516 0.16850282 0.93311226 0.59902346 0.07744054 0.8645418\n",
            " 0.27136397 0.25943798 0.36968452 0.7740288  0.60779756 0.48321673\n",
            " 0.5668571  0.5143669  0.7270409  0.50491107 0.18207696 0.4124021\n",
            " 0.34198672 0.06385335 0.4430385  0.61945593 0.2604978  0.21934488\n",
            " 0.73537314 0.87080723 0.8518073  0.90280056 0.6560933  0.9206784\n",
            " 0.7176987  0.54321325 0.869632   0.9773521  0.6779225  0.02756881\n",
            " 0.84069115 0.7712526  0.9160009  0.6589135  0.79401547 0.57787335\n",
            " 0.437961   0.3654921  0.89207417 0.3965739  0.10891833 0.1754016\n",
            " 0.56681    0.79024905 0.7615919  0.6460896  0.8629644  0.5368045\n",
            " 0.02858583 0.6759295  0.8057836  0.9487048  0.9516468  0.64927495\n",
            " 0.6006711  0.9732554  0.8215058  0.73388505 0.14525354 0.49199668\n",
            " 0.08263362 0.6758544  0.6199505  0.08212477 0.50432634 0.74270195\n",
            " 0.35887712 0.92936885 0.6911154  0.63428247 0.08452358 0.2768268\n",
            " 0.39483944 0.19701181 0.47389653 0.94625604]\n"
          ]
        }
      ]
    },
    {
      "cell_type": "code",
      "source": [
        "# Define linear equation\n",
        "y = 0.2 * x + 0.2\n",
        "# init W\n",
        "W = tf.Variable(tf.random.normal([1]))\n",
        "#init b\n",
        "b = tf.Variable(tf.zeros([1]))"
      ],
      "metadata": {
        "id": "iGdZipU8OHc4"
      },
      "execution_count": 4,
      "outputs": []
    },
    {
      "cell_type": "code",
      "source": [
        "tf.config.run_functions_eagerly(False)  # Enables Graph Execution (default in TF2.x)"
      ],
      "metadata": {
        "id": "5CztirG4VZJo"
      },
      "execution_count": 16,
      "outputs": []
    },
    {
      "cell_type": "code",
      "source": [
        "# define mse_losss\n",
        "@tf.function\n",
        "def mse_loss():\n",
        "  y_pred = W * x + b\n",
        "  loss = tf.reduce_mean(tf.square(y_pred-y))\n",
        "  return loss"
      ],
      "metadata": {
        "id": "Llw4ox2GOiC0"
      },
      "execution_count": 17,
      "outputs": []
    },
    {
      "cell_type": "code",
      "source": [
        "optimizer = tf.optimizers.Adam()"
      ],
      "metadata": {
        "id": "h1mPxFD9O-so"
      },
      "execution_count": 18,
      "outputs": []
    },
    {
      "cell_type": "code",
      "source": [
        "# training loop\n",
        "for step in range(5000):\n",
        "    with tf.GradientTape() as tape: # Create a GradientTape to track computations\n",
        "      loss = mse_loss()  # Calculate the loss within the tape's context\n",
        "      gradients = tape.gradient(loss, [W, b]) # Compute gradients of loss w.r.t. W and b\n",
        "    optimizer.apply_gradients(zip(gradients, [W, b])) # Apply gradients to update W and b\n",
        "    if step % 500 == 0:\n",
        "      print(step, W.numpy(), b.numpy())"
      ],
      "metadata": {
        "colab": {
          "base_uri": "https://localhost:8080/",
          "height": 0
        },
        "id": "EiZjh17kPEhl",
        "outputId": "8341220f-1b32-4a8f-dbcc-55743ab9c8d9"
      },
      "execution_count": 20,
      "outputs": [
        {
          "output_type": "stream",
          "name": "stdout",
          "text": [
            "0 [0.19999892] [0.19999775]\n",
            "500 [0.20000003] [0.2]\n",
            "1000 [0.20006542] [0.2000655]\n",
            "1500 [0.2000018] [0.20000179]\n",
            "2000 [0.19999996] [0.19999996]\n",
            "2500 [0.20000002] [0.19999999]\n",
            "3000 [0.20001942] [0.2000194]\n",
            "3500 [0.19999595] [0.19999596]\n",
            "4000 [0.20000006] [0.20000005]\n",
            "4500 [0.19993986] [0.19993983]\n"
          ]
        }
      ]
    },
    {
      "cell_type": "markdown",
      "source": [
        "# PYTORCH"
      ],
      "metadata": {
        "id": "wzBmAZCSW6oo"
      }
    },
    {
      "cell_type": "code",
      "source": [
        "# PYTORCH\n",
        "import torch\n",
        "import numpy as np"
      ],
      "metadata": {
        "id": "W0aLp9i8PhrH"
      },
      "execution_count": 21,
      "outputs": []
    },
    {
      "cell_type": "code",
      "source": [
        "# create torch tensor\n",
        "data = [\n",
        "    [1,2],\n",
        "    [3,4]\n",
        "]\n",
        "\n",
        "x_data = torch.tensor(data)\n",
        "print(x_data)\n",
        "print(type(x_data))"
      ],
      "metadata": {
        "colab": {
          "base_uri": "https://localhost:8080/",
          "height": 0
        },
        "id": "HWgDjXjwW4Eh",
        "outputId": "c38f01b8-d3a7-44ad-8339-9f7ba91f5113"
      },
      "execution_count": 22,
      "outputs": [
        {
          "output_type": "stream",
          "name": "stdout",
          "text": [
            "tensor([[1, 2],\n",
            "        [3, 4]])\n",
            "<class 'torch.Tensor'>\n"
          ]
        }
      ]
    },
    {
      "cell_type": "code",
      "source": [
        "# convert to np array\n",
        "x_np = np.array(data)\n",
        "print(x_np)\n",
        "print(type(x_np))"
      ],
      "metadata": {
        "colab": {
          "base_uri": "https://localhost:8080/",
          "height": 0
        },
        "id": "c_AsqkwQajWN",
        "outputId": "3fc6e8e6-73ae-461c-cd85-9378688af8c5"
      },
      "execution_count": 25,
      "outputs": [
        {
          "output_type": "stream",
          "name": "stdout",
          "text": [
            "[[1 2]\n",
            " [3 4]]\n",
            "<class 'numpy.ndarray'>\n"
          ]
        }
      ]
    },
    {
      "cell_type": "code",
      "source": [
        "# convert back to tensor\n",
        "x_tensor = torch.from_numpy(x_np)\n",
        "print(x_tensor)\n",
        "print(type(x_tensor))"
      ],
      "metadata": {
        "colab": {
          "base_uri": "https://localhost:8080/",
          "height": 0
        },
        "id": "9XRcvTxga9AO",
        "outputId": "cd50e202-abcc-4192-de0e-9bd94940b1cf"
      },
      "execution_count": 24,
      "outputs": [
        {
          "output_type": "stream",
          "name": "stdout",
          "text": [
            "tensor([[1, 2],\n",
            "        [3, 4]])\n",
            "<class 'torch.Tensor'>\n"
          ]
        }
      ]
    },
    {
      "cell_type": "code",
      "source": [
        "# create ones tensor\n",
        "x_ones = torch.ones_like(x_data)\n",
        "print(x_ones)\n",
        "print(type(x_ones))"
      ],
      "metadata": {
        "colab": {
          "base_uri": "https://localhost:8080/",
          "height": 0
        },
        "id": "Xhdu_0_7bHHs",
        "outputId": "a020c527-fe45-46d8-f75f-0668f86ebe1f"
      },
      "execution_count": 26,
      "outputs": [
        {
          "output_type": "stream",
          "name": "stdout",
          "text": [
            "tensor([[1, 1],\n",
            "        [1, 1]])\n",
            "<class 'torch.Tensor'>\n"
          ]
        }
      ]
    },
    {
      "cell_type": "code",
      "source": [
        "x_rand = torch.rand_like(x_data, dtype= torch.float)\n",
        "print(x_rand)\n",
        "print(type(x_rand))"
      ],
      "metadata": {
        "colab": {
          "base_uri": "https://localhost:8080/",
          "height": 0
        },
        "id": "IEd4bwxlbdvu",
        "outputId": "41069947-4bab-4ed8-c2c1-08e70e26c08f"
      },
      "execution_count": 28,
      "outputs": [
        {
          "output_type": "stream",
          "name": "stdout",
          "text": [
            "tensor([[0.4697, 0.9946],\n",
            "        [0.0445, 0.3389]])\n",
            "<class 'torch.Tensor'>\n"
          ]
        }
      ]
    },
    {
      "cell_type": "code",
      "source": [
        "shape = (2,3)\n",
        "rand_t = torch.rand(shape)\n",
        "print(rand_t)"
      ],
      "metadata": {
        "colab": {
          "base_uri": "https://localhost:8080/",
          "height": 0
        },
        "id": "cIcfCtf6bmqQ",
        "outputId": "f0399d57-e18d-472e-dac1-606fe50bc384"
      },
      "execution_count": 30,
      "outputs": [
        {
          "output_type": "stream",
          "name": "stdout",
          "text": [
            "tensor([[0.2810, 0.8948, 0.4376],\n",
            "        [0.4248, 0.0932, 0.0022]])\n"
          ]
        }
      ]
    },
    {
      "cell_type": "code",
      "source": [
        "one_t = torch.ones(shape)\n",
        "print(one_t)\n",
        "zero_t = torch.zeros(shape)\n",
        "print(zero_t)"
      ],
      "metadata": {
        "colab": {
          "base_uri": "https://localhost:8080/",
          "height": 0
        },
        "id": "xvtbOv2hb1lY",
        "outputId": "366291a8-4fe3-404d-b581-790a4668d7b7"
      },
      "execution_count": 31,
      "outputs": [
        {
          "output_type": "stream",
          "name": "stdout",
          "text": [
            "tensor([[1., 1., 1.],\n",
            "        [1., 1., 1.]])\n",
            "tensor([[0., 0., 0.],\n",
            "        [0., 0., 0.]])\n"
          ]
        }
      ]
    },
    {
      "cell_type": "code",
      "source": [
        "# random tensor and properties\n",
        "random_tensor = torch.rand(3,4)\n",
        "print(random_tensor)\n",
        "random_tensor.dtype"
      ],
      "metadata": {
        "colab": {
          "base_uri": "https://localhost:8080/",
          "height": 0
        },
        "id": "NFXOhfAMcAsg",
        "outputId": "c6221b63-9619-4e47-d331-1c6e70a85f89"
      },
      "execution_count": 37,
      "outputs": [
        {
          "output_type": "stream",
          "name": "stdout",
          "text": [
            "tensor([[0.2707, 0.1179, 0.6863, 0.3819],\n",
            "        [0.0594, 0.9659, 0.0733, 0.9214],\n",
            "        [0.3209, 0.2332, 0.4530, 0.4776]])\n"
          ]
        },
        {
          "output_type": "execute_result",
          "data": {
            "text/plain": [
              "torch.float32"
            ]
          },
          "metadata": {},
          "execution_count": 37
        }
      ]
    },
    {
      "cell_type": "code",
      "source": [
        "random_tensor.device"
      ],
      "metadata": {
        "colab": {
          "base_uri": "https://localhost:8080/",
          "height": 0
        },
        "id": "9IQKMfIMcPcq",
        "outputId": "32dce7d3-2604-4219-b20a-218eb5075eac"
      },
      "execution_count": 38,
      "outputs": [
        {
          "output_type": "execute_result",
          "data": {
            "text/plain": [
              "device(type='cpu')"
            ]
          },
          "metadata": {},
          "execution_count": 38
        }
      ]
    },
    {
      "cell_type": "code",
      "source": [
        "random_tensor.shape"
      ],
      "metadata": {
        "colab": {
          "base_uri": "https://localhost:8080/",
          "height": 0
        },
        "id": "CuXwBibbcYuh",
        "outputId": "258e1bd0-8f2c-46b7-86dc-e14b90824d1b"
      },
      "execution_count": 39,
      "outputs": [
        {
          "output_type": "execute_result",
          "data": {
            "text/plain": [
              "torch.Size([3, 4])"
            ]
          },
          "metadata": {},
          "execution_count": 39
        }
      ]
    },
    {
      "cell_type": "code",
      "source": [
        "# Move to GPU if available\n",
        "if torch.cuda.is_available():\n",
        "  tensor = tensor.to('cuda')\n",
        "  print(\"Tensor is stored in device: \\n\", tensor.device)\n",
        "else:\n",
        "  print(\"Nahi hai CUDA\\n\")"
      ],
      "metadata": {
        "colab": {
          "base_uri": "https://localhost:8080/",
          "height": 0
        },
        "id": "oWCj6Ggycak2",
        "outputId": "94e8a11e-e0ba-44b5-dfb6-49bc07a967ca"
      },
      "execution_count": 42,
      "outputs": [
        {
          "output_type": "stream",
          "name": "stdout",
          "text": [
            "Nahi hai CUDA\n",
            "\n"
          ]
        }
      ]
    },
    {
      "cell_type": "code",
      "source": [
        "# 4*4 ones\n",
        "tensor1 = torch.ones(4,4)\n",
        "print(tensor1)"
      ],
      "metadata": {
        "colab": {
          "base_uri": "https://localhost:8080/",
          "height": 0
        },
        "id": "c4Pvx67xckvL",
        "outputId": "45aa4c24-97cb-41b6-eedc-9ee47a269c97"
      },
      "execution_count": 43,
      "outputs": [
        {
          "output_type": "stream",
          "name": "stdout",
          "text": [
            "tensor([[1., 1., 1., 1.],\n",
            "        [1., 1., 1., 1.],\n",
            "        [1., 1., 1., 1.],\n",
            "        [1., 1., 1., 1.]])\n"
          ]
        }
      ]
    },
    {
      "cell_type": "code",
      "source": [
        "# 4*4 zeros\n",
        "tensor2 = torch.zeros(4,4)\n",
        "print(tensor2)"
      ],
      "metadata": {
        "colab": {
          "base_uri": "https://localhost:8080/",
          "height": 0
        },
        "id": "6Xtcw5wpdB2D",
        "outputId": "93eb7a73-e5ba-4bc2-a004-95447cc030ff"
      },
      "execution_count": 44,
      "outputs": [
        {
          "output_type": "stream",
          "name": "stdout",
          "text": [
            "tensor([[0., 0., 0., 0.],\n",
            "        [0., 0., 0., 0.],\n",
            "        [0., 0., 0., 0.],\n",
            "        [0., 0., 0., 0.]])\n"
          ]
        }
      ]
    },
    {
      "cell_type": "code",
      "source": [
        "#concat\n",
        "t_concat = torch.cat([tensor1,tensor2])\n",
        "print(t_concat)"
      ],
      "metadata": {
        "colab": {
          "base_uri": "https://localhost:8080/",
          "height": 0
        },
        "id": "fnbPgzE1dF68",
        "outputId": "f4669a31-e0e8-4594-cbb9-ec231b819193"
      },
      "execution_count": 46,
      "outputs": [
        {
          "output_type": "stream",
          "name": "stdout",
          "text": [
            "tensor([[1., 1., 1., 1.],\n",
            "        [1., 1., 1., 1.],\n",
            "        [1., 1., 1., 1.],\n",
            "        [1., 1., 1., 1.],\n",
            "        [0., 0., 0., 0.],\n",
            "        [0., 0., 0., 0.],\n",
            "        [0., 0., 0., 0.],\n",
            "        [0., 0., 0., 0.]])\n"
          ]
        }
      ]
    },
    {
      "cell_type": "code",
      "source": [
        "# element wise multiply, transpose\n",
        "t=tensor1.mul(tensor2)\n",
        "print(t)"
      ],
      "metadata": {
        "colab": {
          "base_uri": "https://localhost:8080/",
          "height": 0
        },
        "id": "KU51YsDgdUTr",
        "outputId": "a41929f3-b557-49d4-ea41-55b261ca5449"
      },
      "execution_count": 56,
      "outputs": [
        {
          "output_type": "stream",
          "name": "stdout",
          "text": [
            "tensor([[0., 0., 0., 0.],\n",
            "        [0., 0., 0., 0.],\n",
            "        [0., 0., 0., 0.],\n",
            "        [0., 0., 0., 0.]])\n"
          ]
        }
      ]
    },
    {
      "cell_type": "code",
      "source": [
        "#transpose\n",
        "t_concat.T"
      ],
      "metadata": {
        "colab": {
          "base_uri": "https://localhost:8080/",
          "height": 0
        },
        "id": "xsrwIMLddeJ0",
        "outputId": "a253a497-ad7e-48e0-8304-75e93a8a36d8"
      },
      "execution_count": 53,
      "outputs": [
        {
          "output_type": "execute_result",
          "data": {
            "text/plain": [
              "tensor([[1., 1., 1., 1., 0., 0., 0., 0.],\n",
              "        [1., 1., 1., 1., 0., 0., 0., 0.],\n",
              "        [1., 1., 1., 1., 0., 0., 0., 0.],\n",
              "        [1., 1., 1., 1., 0., 0., 0., 0.]])"
            ]
          },
          "metadata": {},
          "execution_count": 53
        }
      ]
    },
    {
      "cell_type": "code",
      "source": [
        "n = t.numpy()\n",
        "print(n)\n",
        "print(type(n))"
      ],
      "metadata": {
        "colab": {
          "base_uri": "https://localhost:8080/",
          "height": 0
        },
        "id": "0cl0NkhEdrj7",
        "outputId": "7aea25c1-711d-41f3-e5ab-b7df1a6bf0bb"
      },
      "execution_count": 59,
      "outputs": [
        {
          "output_type": "stream",
          "name": "stdout",
          "text": [
            "[[0. 0. 0. 0.]\n",
            " [0. 0. 0. 0.]\n",
            " [0. 0. 0. 0.]\n",
            " [0. 0. 0. 0.]]\n",
            "<class 'numpy.ndarray'>\n"
          ]
        }
      ]
    }
  ]
}