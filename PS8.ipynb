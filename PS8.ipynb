{
  "nbformat": 4,
  "nbformat_minor": 0,
  "metadata": {
    "colab": {
      "provenance": [],
      "authorship_tag": "ABX9TyPuALtoawMBMHeB8Y3hOZWS"
    },
    "kernelspec": {
      "name": "python3",
      "display_name": "Python 3"
    },
    "language_info": {
      "name": "python"
    }
  },
  "cells": [
    {
      "cell_type": "code",
      "source": [
        "import numpy as np"
      ],
      "metadata": {
        "id": "mcsacJsTNx8e"
      },
      "execution_count": 1,
      "outputs": []
    },
    {
      "cell_type": "code",
      "source": [
        "# sigmoid\n",
        "def sigmoid(x):\n",
        "  return 1/(1+np.exp(-x))"
      ],
      "metadata": {
        "id": "FqWaR7zmVDfh"
      },
      "execution_count": 2,
      "outputs": []
    },
    {
      "cell_type": "code",
      "source": [
        "# Define layers\n",
        "input_layer=5\n",
        "hidden_layer=10\n",
        "output_layer=1"
      ],
      "metadata": {
        "id": "Jx8DOD6kRTMU"
      },
      "execution_count": 3,
      "outputs": []
    },
    {
      "cell_type": "code",
      "source": [
        "# Init weight and bias\n",
        "a = np.random.randn(hidden_layer,input_layer) # (10x5)\n",
        "b = np.random.randn(hidden_layer,hidden_layer) #(10x10)\n",
        "c = np.random.randn(output_layer,hidden_layer) #(1x10)\n",
        "\n",
        "bh = np.zeros((hidden_layer,1))\n",
        "by = np.zeros((output_layer,1))\n",
        "h = np.zeros((10,1))"
      ],
      "metadata": {
        "id": "vAMBE8OVRhTG"
      },
      "execution_count": 4,
      "outputs": []
    },
    {
      "cell_type": "code",
      "source": [
        "# rnn step\n",
        "def rnn_step(x,h):\n",
        "  h = sigmoid(np.dot(a,x)+np.dot(b,h)+bh)\n",
        "  y = np.dot(c,h)+by\n",
        "  return h,y"
      ],
      "metadata": {
        "id": "JLawya9WSIBt"
      },
      "execution_count": 5,
      "outputs": []
    },
    {
      "cell_type": "code",
      "source": [
        "# input sequence\n",
        "x = [np.random.randn(5,1) for _ in range(6)]"
      ],
      "metadata": {
        "id": "k-C-6tpfSgzs"
      },
      "execution_count": 6,
      "outputs": []
    },
    {
      "cell_type": "code",
      "source": [
        "# Time step iteration\n",
        "for t in range(len(x)):\n",
        "  h,y = rnn_step(x[t],h)\n",
        "  print(f'Time step {t}, Output: {y}')\n"
      ],
      "metadata": {
        "colab": {
          "base_uri": "https://localhost:8080/"
        },
        "id": "HhNsA_SISnzi",
        "outputId": "8a1140df-4cc5-4050-cc4b-1f04c9c908fe"
      },
      "execution_count": 7,
      "outputs": [
        {
          "output_type": "stream",
          "name": "stdout",
          "text": [
            "Time step 0, Output: [[-1.76646888]]\n",
            "Time step 1, Output: [[-0.11396394]]\n",
            "Time step 2, Output: [[-0.63947395]]\n",
            "Time step 3, Output: [[-0.42874948]]\n",
            "Time step 4, Output: [[-0.74565725]]\n",
            "Time step 5, Output: [[-0.97281786]]\n"
          ]
        }
      ]
    },
    {
      "cell_type": "code",
      "source": [],
      "metadata": {
        "id": "Q6Fwwx8qTJqi"
      },
      "execution_count": 7,
      "outputs": []
    }
  ]
}